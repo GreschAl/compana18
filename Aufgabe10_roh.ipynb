{
 "cells": [
  {
   "cell_type": "markdown",
   "metadata": {},
   "source": [
    "## Aufgabe 10\n",
    "### Grundgerüst für die Klasse $\\texttt{Bruch}$"
   ]
  },
  {
   "cell_type": "code",
   "execution_count": null,
   "metadata": {},
   "outputs": [],
   "source": [
    "class Bruch():\n",
    "    '''Die Klasse \"Bruch\" speichert Zähler und Nenner eines Bruches. Der Bruch\n",
    "    wird automatisch gekürzt. Der Nenner ist >=0. Sollte der Nenner 0 sein,\n",
    "    so wird 0/0 gespeichert und eine Warnung ausgegeben.\n",
    "    Beispiel: Bruch(10,-4) <=> -5/2\n",
    "    Die Rechenoperatoren +,-,*,/ funktionieren:\n",
    "    a=Bruch(5,-2)\n",
    "    b=Bruch(23,98)\n",
    "    c=a*b\n",
    "    Die Methode tofloat() gibt eine float-Repräsentation des Bruches zurück.\n",
    "    '''\n",
    "    \n",
    "    # Initialisieren\n",
    "    def __init__(self,zaehler, nenner):\n",
    "        pass\n",
    "        \n",
    "    # Kürzen von Zähler und Nenner\n",
    "    def kuerzen(self,zaehler, nenner):\n",
    "        pass\n",
    "    \n",
    "    # Methode zum Addieren (a+b)\n",
    "    def __add__(self, other):\n",
    "        pass\n",
    "    \n",
    "    # Methode zum Subtrahieren (a-b)\n",
    "    def __sub__(self, other):\n",
    "        pass\n",
    "        \n",
    "    # Methode zum Dividieren (a/b)\n",
    "    def __truediv__(self, other):\n",
    "        pass\n",
    "    \n",
    "    # Methode zum Multiplizieren (a*b)\n",
    "    def __mul__(self, other):\n",
    "        pass\n",
    "    \n",
    "    # In float umwandeln\n",
    "    def tofloat(self):\n",
    "        pass\n",
    "    \n",
    "    ''' Diese beiden Methoden dienen dazu, dass Sie den Bruch sehen wenn die\n",
    "    ein Bruch-Objekt in die Konsole tippen oder print() übergeben.\n",
    "    Bei 0/0 wird \"NaN\" zurückgegeben, um zu verdeutlichen, dass das nicht\n",
    "    korrekt ist.\n",
    "    Wenn die Attribute für Zähler und Nenner bei Ihnen \"zaehler\" und \"nenner\"\n",
    "    heißen, müssen Sie hier nichts ändern.\n",
    "    '''\n",
    "    def __str__(self):\n",
    "        return '{:d}/{:d}'.format(self.zaehler,self.nenner) if self.nenner>0 else 'NaN'\n",
    "    \n",
    "    def __repr__(self):\n",
    "        return '{:d}/{:d}'.format(self.zaehler,self.nenner) if self.nenner>0 else 'NaN'\n",
    "\n",
    "    ''' Auf folgende Fälle sollten Sie besonders achten:\n",
    "a=Bruch(5,-2)\n",
    "b=Bruch(8,4)\n",
    "c=Bruch(0,9)\n",
    "d=Bruch(7,0)\n",
    "a*c\n",
    "a/c\n",
    "a+-*/d\n",
    "'''"
   ]
  }
 ],
 "metadata": {
  "kernelspec": {
   "display_name": "Python 3",
   "language": "python",
   "name": "python3"
  },
  "language_info": {
   "codemirror_mode": {
    "name": "ipython",
    "version": 3
   },
   "file_extension": ".py",
   "mimetype": "text/x-python",
   "name": "python",
   "nbconvert_exporter": "python",
   "pygments_lexer": "ipython3",
   "version": "3.7.0"
  }
 },
 "nbformat": 4,
 "nbformat_minor": 2
}
