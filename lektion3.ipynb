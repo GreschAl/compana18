{
 "cells": [
  {
   "cell_type": "markdown",
   "metadata": {
    "slideshow": {
     "slide_type": "slide"
    }
   },
   "source": [
    " # Eine Einführung in die objektorientierte Programmierung\n",
    " Eine ausführliche Beschreibung finden Sie hier:\n",
    " https://www.python-kurs.eu/klassen.php\n",
    "\n",
    " Wir haben bereits vordefinierte Objekte und Methoden von Klassen benutzt.\n"
   ]
  },
  {
   "cell_type": "code",
   "execution_count": 1,
   "metadata": {
    "slideshow": {
     "slide_type": "slide"
    }
   },
   "outputs": [],
   "source": [
    "liste1 = [1,2,3]"
   ]
  },
  {
   "cell_type": "code",
   "execution_count": null,
   "metadata": {
    "slideshow": {
     "slide_type": "fragment"
    }
   },
   "outputs": [],
   "source": [
    "liste1  # liste1. + TAB Taste"
   ]
  },
  {
   "cell_type": "code",
   "execution_count": null,
   "metadata": {
    "slideshow": {
     "slide_type": "fragment"
    }
   },
   "outputs": [],
   "source": [
    "a = -23\n",
    "type(a)\n",
    "dir(a)"
   ]
  },
  {
   "cell_type": "markdown",
   "metadata": {
    "slideshow": {
     "slide_type": "slide"
    }
   },
   "source": [
    "## Eine erste Klasse, die nichts kann.\n",
    "Die minimale Definition einer Klasse in Python hat die Form"
   ]
  },
  {
   "cell_type": "code",
   "execution_count": null,
   "metadata": {
    "slideshow": {
     "slide_type": "fragment"
    }
   },
   "outputs": [],
   "source": [
    "class ErsteKlasse(object):\n",
    "    pass # pass gibt an, dass hier noch irgendwas hin soll\n"
   ]
  },
  {
   "cell_type": "code",
   "execution_count": null,
   "metadata": {
    "slideshow": {
     "slide_type": "fragment"
    }
   },
   "outputs": [],
   "source": [
    "p = ErsteKlasse()\n",
    "p"
   ]
  },
  {
   "cell_type": "code",
   "execution_count": null,
   "metadata": {
    "slideshow": {
     "slide_type": "slide"
    }
   },
   "outputs": [],
   "source": [
    "class ZweiteKlasse(object):\n",
    "    \"\"\" eine zweite Klasse \"\"\"\n",
    "    n = 1234\n",
    "    def f(x):\n",
    "        return x**2\n",
    "\n",
    "z = ZweiteKlasse\n",
    "z\n",
    "dir(z)"
   ]
  },
  {
   "cell_type": "markdown",
   "metadata": {
    "slideshow": {
     "slide_type": "slide"
    }
   },
   "source": [
    "## Klasse Student"
   ]
  },
  {
   "cell_type": "code",
   "execution_count": null,
   "metadata": {
    "slideshow": {
     "slide_type": "fragment"
    }
   },
   "outputs": [],
   "source": [
    "class Student(object):\n",
    "    \n",
    "    noten = []                      # \n",
    "    \n",
    "    def __init__(self,Vn,Nn,MatNr):\n",
    "        self.Vorname = Vn\n",
    "        self.Nachname = Nn\n",
    "        self.MatrikelNummer = MatNr\n",
    "    #'__init__ wird automatisch beim Erstellen eines Objektes aufgerufen\n",
    "\n",
    "    # Klassenmethoden\n",
    "    def notehinzufuegen(self,note):\n",
    "        self.noten.append(note)\n",
    "        \n",
    "    def hallo(self):\n",
    "        print('Hallo mein Name ist {0} {1}'.format(self.Vorname,self.Nachname))\n",
    " \n",
    "           \n",
    "a = Student('Li','Ping',101)\n",
    "b = Student('Lisa','Paul',102)\n",
    "a.notehinzufuegen(1)\n",
    "b.notehinzufuegen(4)\n",
    "\n",
    "print('Hallo {0} {1}'.format(a.Vorname,a.Nachname))\n",
    "a.hallo()\n",
    "b.hallo()\n",
    "\n",
    "a.noten"
   ]
  },
  {
   "cell_type": "markdown",
   "metadata": {
    "slideshow": {
     "slide_type": "slide"
    }
   },
   "source": [
    "# Bessere Lösung\n"
   ]
  },
  {
   "cell_type": "code",
   "execution_count": null,
   "metadata": {
    "slideshow": {
     "slide_type": "fragment"
    }
   },
   "outputs": [],
   "source": [
    "class Student(object):\n",
    "     \n",
    "    def __init__(self,Vn,Nn,MatNr):\n",
    "        self.Vorname = Vn\n",
    "        self.Nachname = Nn\n",
    "        self.MatrikelNummer = MatNr\n",
    "        self.noten = []\n",
    "        \n",
    "    def notehinzufuegen(self,note):\n",
    "        self.noten.append(note)\n",
    "        \n",
    "    def hallo(self):\n",
    "        print('Hallo mein Name ist {0} {1}'.format(self.Vorname,self.Nachname))\n",
    " "
   ]
  },
  {
   "cell_type": "code",
   "execution_count": null,
   "metadata": {
    "slideshow": {
     "slide_type": "fragment"
    }
   },
   "outputs": [],
   "source": [
    "a = Student('Li','Ping',101)\n",
    "b = Student('Lisa','Paul',102)\n",
    "a.notehinzufuegen(1)\n",
    "b.notehinzufuegen(4)\n",
    "\n",
    "a.noten, b.noten"
   ]
  },
  {
   "cell_type": "markdown",
   "metadata": {
    "slideshow": {
     "slide_type": "slide"
    }
   },
   "source": [
    " # Rules regarding self\n",
    " (from Lantangen's book, page 419):\n",
    "\n",
    " 1) Any class method must have self as first argument. (The name can be any \n",
    "    valid variable name, but the name self is a widely established convention in\n",
    "     Python.) \n",
    "\n",
    " 2) self represents an (arbitrary) instance of the class.\n",
    "\n",
    " 3) To access any class attribute inside class methods, we must prefix with self,\n",
    " as in self.name, where name is the name of the attribute.\n",
    "\n",
    " 4) self is dropped as argument in calls to class methods.\n"
   ]
  },
  {
   "cell_type": "code",
   "execution_count": null,
   "metadata": {
    "slideshow": {
     "slide_type": "slide"
    }
   },
   "outputs": [],
   "source": [
    "class Student(object):\n",
    "    \n",
    "    def __init__(self,Vn,Nn,MatNr):\n",
    "        self.Vorname = Vn\n",
    "        self.Nachname = Nn\n",
    "        self.MatrikelNummer = MatNr\n",
    "        self.noten = []\n",
    "        \n",
    "    def saghallo(self):\n",
    "        print('Hallo mein Name ist {0} {1}'.format(self.Vorname,self.Nachname))\n",
    " \n",
    "    def brief(self):\n",
    "        return 'HALLO {0} Deine email ist {1}'.format(self.Vorname,self.email())\n",
    "        \n",
    "    def email(self):\n",
    "        return '{0}.{1}@hhu.de'.format(self.Vorname,self.Nachname)\n",
    "            \n",
    "a = Student('Li','Ping',101)\n",
    "b = Student('Lisa','Paul',102)\n",
    "a.saghallo()\n",
    "print(a.brief())\n"
   ]
  },
  {
   "cell_type": "markdown",
   "metadata": {
    "slideshow": {
     "slide_type": "slide"
    }
   },
   "source": [
    "## Ein mathematisches Beispiel\n",
    "Eine Klasse für Polynome \n",
    "\n"
   ]
  },
  {
   "cell_type": "code",
   "execution_count": null,
   "metadata": {
    "slideshow": {
     "slide_type": "fragment"
    }
   },
   "outputs": [],
   "source": [
    "class Polynom(object):\n",
    "    \"\"\" Polynomklasse Beschreibung .....\n",
    "    \"\"\"\n",
    "    def __init__(self,dp):\n",
    "        if isinstance(dp,(int,float,complex)):\n",
    "            dp = {0:dp}\n",
    "        self.dp = dp\n",
    "        self.degree = max(dp.keys())\n",
    "        \n",
    "    def __repr__(self):\n",
    "        polystr = ''\n",
    "        for k in sorted(self.dp):\n",
    "            polystr = polystr + '{0:+g}*X^{1}'.format(self.dp[k],k)\n",
    "        return 'Polynom: ' + polystr \n",
    "    \n",
    "    def __add__(self,other):\n",
    "        spow = set(self.dp.keys())\n",
    "        opow = set(other.dp.keys())\n",
    "        pows = spow.union(opow)\n",
    "        pps = dict()\n",
    "        for k in pows:\n",
    "            if k in spow:\n",
    "                if k in opow:\n",
    "                    pps[k] = self.dp[k] + other.dp[k]\n",
    "                else:\n",
    "                    pps[k] = self.dp[k]\n",
    "            else:\n",
    "                pps[k] =  other.dp[k]\n",
    "        \n",
    "        return Polynom(pps)\n",
    "    \n",
    "    def __sub__(self,other):\n",
    "        \"\"\" Substraktion zweier Polynomen \n",
    "        \"\"\"\n",
    "        selfpow = set(self.dp.keys())\n",
    "        otherpow = set(other.dp.keys())\n",
    "        pows = selfpow.union(otherpow)\n",
    "        erg = dict()\n",
    "        for k in pows:\n",
    "            if k in selfpow:\n",
    "                if k in otherpow:\n",
    "                    erg[k] = self.dp[k] - other.dp[k]\n",
    "                else:\n",
    "                    erg[k] = self.dp[k]\n",
    "            else:\n",
    "                erg[k] =  -other.dp[k]\n",
    "        \n",
    "        return Polynom(erg)\n",
    "    def __call__(self,x):\n",
    "        \"\"\" Auswertung des Polynoms \n",
    "        \"\"\"\n",
    "        return sum([self.dp[k]*x**k for k in self.dp])\n",
    "    \n",
    "    def __mul__(self,other):\n",
    "        \"\"\" Multiplikation eines Polynoms mit einem Skalar \n",
    "        TODO Polynommultiplikation\n",
    "        \"\"\"\n",
    "        erg = dict()\n",
    "        if isinstance(other,(int,float,complex)):\n",
    "            for k in self.dp:\n",
    "                erg[k] = self.dp[k] *other       \n",
    "            return Polynom(erg)\n",
    "        \n",
    "    __rmul__ = __mul__\n",
    "            "
   ]
  },
  {
   "cell_type": "code",
   "execution_count": null,
   "metadata": {
    "slideshow": {
     "slide_type": "slide"
    }
   },
   "outputs": [],
   "source": [
    "pd = {0:1,10:2.5}\n",
    "qd = {0:2/3,5:34}\n",
    "p = Polynom(pd)\n",
    "q = Polynom(qd)\n",
    "p, q"
   ]
  },
  {
   "cell_type": "code",
   "execution_count": null,
   "metadata": {
    "slideshow": {
     "slide_type": "fragment"
    }
   },
   "outputs": [],
   "source": [
    "print(p)"
   ]
  },
  {
   "cell_type": "code",
   "execution_count": null,
   "metadata": {
    "slideshow": {
     "slide_type": "fragment"
    }
   },
   "outputs": [],
   "source": [
    "p+q"
   ]
  },
  {
   "cell_type": "code",
   "execution_count": null,
   "metadata": {
    "slideshow": {
     "slide_type": "fragment"
    }
   },
   "outputs": [],
   "source": [
    "p-q"
   ]
  },
  {
   "cell_type": "code",
   "execution_count": null,
   "metadata": {
    "slideshow": {
     "slide_type": "fragment"
    }
   },
   "outputs": [],
   "source": [
    "2*p"
   ]
  },
  {
   "cell_type": "code",
   "execution_count": null,
   "metadata": {
    "slideshow": {
     "slide_type": "fragment"
    }
   },
   "outputs": [],
   "source": [
    "p*2"
   ]
  },
  {
   "cell_type": "code",
   "execution_count": null,
   "metadata": {
    "slideshow": {
     "slide_type": "fragment"
    }
   },
   "outputs": [],
   "source": [
    "2*p+q"
   ]
  },
  {
   "cell_type": "code",
   "execution_count": null,
   "metadata": {
    "slideshow": {
     "slide_type": "fragment"
    }
   },
   "outputs": [],
   "source": [
    "p(2)"
   ]
  },
  {
   "cell_type": "code",
   "execution_count": null,
   "metadata": {},
   "outputs": [],
   "source": []
  }
 ],
 "metadata": {
  "celltoolbar": "Slideshow",
  "kernelspec": {
   "display_name": "Python 3",
   "language": "python",
   "name": "python3"
  },
  "language_info": {
   "codemirror_mode": {
    "name": "ipython",
    "version": 3
   },
   "file_extension": ".py",
   "mimetype": "text/x-python",
   "name": "python",
   "nbconvert_exporter": "python",
   "pygments_lexer": "ipython3",
   "version": "3.6.5"
  },
  "toc": {
   "base_numbering": 1,
   "nav_menu": {},
   "number_sections": true,
   "sideBar": true,
   "skip_h1_title": true,
   "title_cell": "Table of Contents",
   "title_sidebar": "Contents",
   "toc_cell": false,
   "toc_position": {},
   "toc_section_display": true,
   "toc_window_display": false
  }
 },
 "nbformat": 4,
 "nbformat_minor": 2
}
